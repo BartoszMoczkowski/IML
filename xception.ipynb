{
 "cells": [
  {
   "cell_type": "code",
   "execution_count": 1,
   "metadata": {},
   "outputs": [],
   "source": [
    "import numpy as np # linear algebra\n",
    "import pandas as pd # data processing, CSV file I/O (e.g. pd.read_csv)\n",
    "import tensorflow as tf\n",
    "import tensorflow.keras as kr"
   ]
  },
  {
   "cell_type": "code",
   "execution_count": 2,
   "metadata": {},
   "outputs": [],
   "source": [
    "batch_size = 32\n",
    "img_height = 180\n",
    "img_width = 180"
   ]
  },
  {
   "cell_type": "code",
   "execution_count": 3,
   "metadata": {},
   "outputs": [
    {
     "name": "stdout",
     "output_type": "stream",
     "text": [
      "Found 15153 files belonging to 3 classes.\n",
      "Using 12123 files for training.\n",
      "Found 15153 files belonging to 3 classes.\n",
      "Using 3030 files for validation.\n"
     ]
    }
   ],
   "source": [
    "train_ds = kr.utils.image_dataset_from_directory(\n",
    "    \"COVID-19_Radiography_Dataset\",\n",
    "    subset = \"training\",\n",
    "    validation_split = 0.2,\n",
    "    seed = 123,\n",
    "    image_size = (img_height,img_width)\n",
    ")\n",
    "test_ds = kr.utils.image_dataset_from_directory(\n",
    "    \"COVID-19_Radiography_Dataset\",\n",
    "    subset = \"validation\",\n",
    "    validation_split = 0.2,\n",
    "    seed = 123,\n",
    "    image_size = (img_height,img_width)\n",
    ")"
   ]
  },
  {
   "cell_type": "code",
   "execution_count": 4,
   "metadata": {},
   "outputs": [
    {
     "name": "stdout",
     "output_type": "stream",
     "text": [
      "Found 251 files belonging to 3 classes.\n",
      "Found 66 files belonging to 3 classes.\n"
     ]
    }
   ],
   "source": [
    "train_ds = kr.utils.image_dataset_from_directory(\n",
    "    \"Covid19-dataset/train\",\n",
    "    seed = 123,\n",
    "    image_size = (img_height,img_width)\n",
    ")\n",
    "test_ds = kr.utils.image_dataset_from_directory(\n",
    "    \"Covid19-dataset/test/\",\n",
    "    seed = 123,\n",
    "    image_size = (img_height,img_width)\n",
    ")"
   ]
  },
  {
   "cell_type": "code",
   "execution_count": 5,
   "metadata": {},
   "outputs": [],
   "source": [
    "AUTOTUNE = tf.data.AUTOTUNE\n",
    "\n",
    "train_ds = train_ds.cache().prefetch(buffer_size = AUTOTUNE)\n",
    "val_ds = test_ds.cache().prefetch(buffer_size = AUTOTUNE)"
   ]
  },
  {
   "cell_type": "code",
   "execution_count": 38,
   "metadata": {},
   "outputs": [],
   "source": [
    "base_model = tf.keras.applications.Xception(\n",
    "    include_top=False,\n",
    "    weights=\"imagenet\",\n",
    "    input_tensor=None,\n",
    "    input_shape=(180,180,3),\n",
    "    pooling=\"avg\",\n",
    "    classes=3,\n",
    "    classifier_activation=\"softmax\"\n",
    ")\n",
    "\n"
   ]
  },
  {
   "cell_type": "code",
   "execution_count": 39,
   "metadata": {},
   "outputs": [],
   "source": [
    "base_model.trainable = False"
   ]
  },
  {
   "cell_type": "code",
   "execution_count": 40,
   "metadata": {},
   "outputs": [],
   "source": [
    "inputs = kr.Input(shape=(180,180,3))\n",
    "mean = np.array([127.5]*3)\n",
    "var = mean ** 2\n",
    "\n",
    "norm_layer = kr.layers.experimental.preprocessing.Normalization(mean=mean,variance=var)\n",
    "x = norm_layer(inputs)\n",
    "\n",
    "x = base_model(x)\n",
    "\n",
    "x = kr.layers.Dense(256)(x)\n",
    "x = kr.layers.Dense(64)(x)\n",
    "output = kr.layers.Dense(3, activation=\"softmax\")(x)\n",
    "model_fin = kr.Model(inputs,output)"
   ]
  },
  {
   "cell_type": "code",
   "execution_count": 41,
   "metadata": {},
   "outputs": [
    {
     "name": "stdout",
     "output_type": "stream",
     "text": [
      "Model: \"model_5\"\n",
      "_________________________________________________________________\n",
      " Layer (type)                Output Shape              Param #   \n",
      "=================================================================\n",
      " input_10 (InputLayer)       [(None, 180, 180, 3)]     0         \n",
      "                                                                 \n",
      " normalization_5 (Normalizat  (None, 180, 180, 3)      0         \n",
      " ion)                                                            \n",
      "                                                                 \n",
      " xception (Functional)       (None, 2048)              20861480  \n",
      "                                                                 \n",
      " dense_15 (Dense)            (None, 256)               524544    \n",
      "                                                                 \n",
      " dense_16 (Dense)            (None, 64)                16448     \n",
      "                                                                 \n",
      " dense_17 (Dense)            (None, 3)                 195       \n",
      "                                                                 \n",
      "=================================================================\n",
      "Total params: 21,402,667\n",
      "Trainable params: 541,187\n",
      "Non-trainable params: 20,861,480\n",
      "_________________________________________________________________\n"
     ]
    }
   ],
   "source": [
    "model_fin.summary()\n"
   ]
  },
  {
   "cell_type": "code",
   "execution_count": 42,
   "metadata": {},
   "outputs": [],
   "source": [
    "optimzer = kr.optimizers.Adam(learning_rate=0.000001)\n",
    "model_fin.compile(\n",
    "    optimizer=\"Adam\",\n",
    "    loss = tf.keras.losses.SparseCategoricalCrossentropy(),\n",
    "    metrics=[\"accuracy\"]\n",
    ")"
   ]
  },
  {
   "cell_type": "code",
   "execution_count": 43,
   "metadata": {},
   "outputs": [],
   "source": [
    "from keras.callbacks import EarlyStopping\n",
    "\n",
    "early_stop = EarlyStopping(monitor='val_loss', patience=2)\n"
   ]
  },
  {
   "cell_type": "code",
   "execution_count": 44,
   "metadata": {},
   "outputs": [
    {
     "name": "stdout",
     "output_type": "stream",
     "text": [
      "Epoch 1/6\n",
      "8/8 [==============================] - 5s 558ms/step - loss: 1.7328 - accuracy: 0.6494 - val_loss: 2.4738 - val_accuracy: 0.5455\n",
      "Epoch 2/6\n",
      "8/8 [==============================] - 4s 517ms/step - loss: 0.7820 - accuracy: 0.8367 - val_loss: 0.4544 - val_accuracy: 0.8485\n",
      "Epoch 3/6\n",
      "8/8 [==============================] - 4s 499ms/step - loss: 0.2502 - accuracy: 0.8924 - val_loss: 0.7266 - val_accuracy: 0.7879\n",
      "Epoch 4/6\n",
      "8/8 [==============================] - 4s 509ms/step - loss: 0.1472 - accuracy: 0.9482 - val_loss: 0.3224 - val_accuracy: 0.8939\n",
      "Epoch 5/6\n",
      "8/8 [==============================] - 4s 518ms/step - loss: 0.0766 - accuracy: 0.9761 - val_loss: 0.7249 - val_accuracy: 0.8030\n",
      "Epoch 6/6\n",
      "8/8 [==============================] - 4s 510ms/step - loss: 0.0658 - accuracy: 0.9641 - val_loss: 0.3037 - val_accuracy: 0.9242\n"
     ]
    },
    {
     "data": {
      "text/plain": [
       "<keras.callbacks.History at 0x212fc1656c0>"
      ]
     },
     "execution_count": 44,
     "metadata": {},
     "output_type": "execute_result"
    }
   ],
   "source": [
    "model_fin.fit(\n",
    "    train_ds,\n",
    "    validation_data=test_ds,\n",
    "    epochs=6,\n",
    "    callbacks = [early_stop],\n",
    "    shuffle = True,\n",
    ")"
   ]
  },
  {
   "cell_type": "code",
   "execution_count": 45,
   "metadata": {},
   "outputs": [
    {
     "name": "stdout",
     "output_type": "stream",
     "text": [
      "3/3 [==============================] - 1s 219ms/step\n"
     ]
    }
   ],
   "source": [
    "y_pred = np.argmax(model_fin.predict(val_ds),axis=1)"
   ]
  },
  {
   "cell_type": "code",
   "execution_count": 46,
   "metadata": {},
   "outputs": [],
   "source": [
    "train_label = np.concatenate([y for x, y in val_ds], axis=0)\n",
    "\n",
    "test_label = np.concatenate([y for x, y in val_ds], axis=0) "
   ]
  },
  {
   "cell_type": "code",
   "execution_count": 47,
   "metadata": {},
   "outputs": [
    {
     "data": {
      "text/plain": [
       "<tf.Tensor: shape=(3, 3), dtype=int32, numpy=\n",
       "array([[26,  0,  0],\n",
       "       [ 0, 16,  4],\n",
       "       [ 0,  1, 19]])>"
      ]
     },
     "execution_count": 47,
     "metadata": {},
     "output_type": "execute_result"
    }
   ],
   "source": [
    "tf.math.confusion_matrix(labels=test_label,predictions=y_pred)"
   ]
  }
 ],
 "metadata": {
  "kernelspec": {
   "display_name": "snake-game",
   "language": "python",
   "name": "python3"
  },
  "language_info": {
   "codemirror_mode": {
    "name": "ipython",
    "version": 3
   },
   "file_extension": ".py",
   "mimetype": "text/x-python",
   "name": "python",
   "nbconvert_exporter": "python",
   "pygments_lexer": "ipython3",
   "version": "3.9.13"
  }
 },
 "nbformat": 4,
 "nbformat_minor": 2
}
